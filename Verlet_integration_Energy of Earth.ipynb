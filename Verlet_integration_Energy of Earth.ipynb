{
 "cells": [
  {
   "cell_type": "code",
   "execution_count": 1,
   "id": "6ae21f35",
   "metadata": {},
   "outputs": [
    {
     "data": {
      "image/png": "[encoded data removed]",
      "text/plain": [
       "<Figure size 432x288 with 1 Axes>"
      ]
     },
     "metadata": {
      "needs_background": "light"
     },
     "output_type": "display_data"
    }
   ],
   "source": [
    "import numpy as np\n",
    "import matplotlib.pyplot as plt\n",
    "M=1.989*10**30\n",
    "G=6.67408*10**(-11)\n",
    "m=5.9722*10**(24)\n",
    "h=3600 #should set\n",
    "l=int(365*24*3600/h)\n",
    "t=np.linspace(0,365*24*3600,l)\n",
    "x=np.zeros(l)\n",
    "y=np.zeros(l)\n",
    "vx=np.zeros(l)\n",
    "vy=np.zeros(l)\n",
    "U=np.zeros(l) #potential energy\n",
    "T=np.zeros(l) #kinetic energy\n",
    "E=np.zeros(l)\n",
    "#initial conditions\n",
    "x[0]=0       \n",
    "y[0]=1.4710*10**11\n",
    "vx[0]=3.0287*10**(4)\n",
    "vy[0]=0\n",
    "T[0]=(1/2)*m*(vx[0]**2+vy[0]**2)\n",
    "U[0]=-G*M*m/(np.sqrt(x[0]**2+y[0]**2))\n",
    "E[0]=T[0]+U[0]\n",
    "v1=vx[0]\n",
    "v2=vy[0]\n",
    "# verlet integration\n",
    "for i in range(1,l):\n",
    "  v1=v1+((h/2)*-G*M*x[i-1]/((np.sqrt(x[i-1]**2+y[i-1]**2))**3))\n",
    "  x[i]=x[i-1]+h*(v1)\n",
    "  v2=v2+(h/2)*-G*M*y[i-1]/((np.sqrt(x[i-1]**2+y[i-1]**2))**3)\n",
    "  y[i]=y[i-1]+h*(v2)\n",
    "  U[i]=-G*M*m/(np.sqrt(x[i]**2+y[i]**2))\n",
    "  vx[i]=v1+(h/2)*-G*M*x[i]/((np.sqrt(x[i]**2+y[i]**2))**3)\n",
    "  v1=vx[i]\n",
    "  vy[i]=v2+(h/2)*-G*M*y[i]/((np.sqrt(x[i]**2+y[i]**2))**3)\n",
    "  v2=vy[i]\n",
    "  T[i]=(1/2)*m*(vx[i]**2+vy[i]**2)\n",
    "  E[i]=T[i]+U[i]\n",
    "plt.plot(t,T,color=\"red\",label=\"kinetic energy\")\n",
    "plt.plot(t,U,color=\"green\",label=\"potential energy\")\n",
    "plt.plot(t,E,color=\"black\",label=\"total energy\")\n",
    "#print(E[4000])\n",
    "plt.xlabel(\"time\")\n",
    "plt.ylabel(\"energy\")\n",
    "#plt.title(\"energy vs time\")\n",
    "plt.legend()\n",
    "plt.savefig(\"tenb.png\")\n",
    "plt.show()"
   ]
  }
 ],
 "metadata": {
  "kernelspec": {
   "display_name": "Python 3",
   "language": "python",
   "name": "python3"
  },
  "language_info": {
   "codemirror_mode": {
    "name": "ipython",
    "version": 3
   },
   "file_extension": ".py",
   "mimetype": "text/x-python",
   "name": "python",
   "nbconvert_exporter": "python",
   "pygments_lexer": "ipython3",
   "version": "3.8.8"
  }
 },
 "nbformat": 4,
 "nbformat_minor": 5
}
